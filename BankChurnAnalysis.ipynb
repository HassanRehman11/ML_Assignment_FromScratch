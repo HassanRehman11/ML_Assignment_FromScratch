{
 "cells": [
  {
   "cell_type": "markdown",
   "id": "23a3ab40",
   "metadata": {},
   "source": [
    "# Bank Customer Churn Prediction"
   ]
  },
  {
   "cell_type": "markdown",
   "id": "b59ec27d",
   "metadata": {},
   "source": [
    "## Importing the necessary llibraries"
   ]
  },
  {
   "cell_type": "code",
   "execution_count": 1,
   "id": "e17b4fa4",
   "metadata": {},
   "outputs": [],
   "source": [
    "import pandas as pd\n",
    "import numpy as np\n",
    "from pandas.api.types import CategoricalDtype \n",
    "from sklearn.preprocessing import LabelEncoder\n",
    "from sklearn.feature_selection import SelectKBest\n",
    "from sklearn.model_selection import train_test_split\n",
    "from sklearn.feature_selection import f_classif\n",
    "from sklearn.preprocessing import StandardScaler\n",
    "from sklearn.metrics import confusion_matrix, accuracy_score\n",
    "import seaborn as sns\n",
    "import matplotlib.pyplot as plt\n",
    "from imblearn.over_sampling import SMOTE"
   ]
  },
  {
   "cell_type": "code",
   "execution_count": 2,
   "id": "1101ef66",
   "metadata": {},
   "outputs": [
    {
     "data": {
      "text/html": [
       "<div>\n",
       "<style scoped>\n",
       "    .dataframe tbody tr th:only-of-type {\n",
       "        vertical-align: middle;\n",
       "    }\n",
       "\n",
       "    .dataframe tbody tr th {\n",
       "        vertical-align: top;\n",
       "    }\n",
       "\n",
       "    .dataframe thead th {\n",
       "        text-align: right;\n",
       "    }\n",
       "</style>\n",
       "<table border=\"1\" class=\"dataframe\">\n",
       "  <thead>\n",
       "    <tr style=\"text-align: right;\">\n",
       "      <th></th>\n",
       "      <th>RowNumber</th>\n",
       "      <th>CustomerId</th>\n",
       "      <th>Surname</th>\n",
       "      <th>CreditScore</th>\n",
       "      <th>Geography</th>\n",
       "      <th>Gender</th>\n",
       "      <th>Age</th>\n",
       "      <th>Tenure</th>\n",
       "      <th>Balance</th>\n",
       "      <th>NumOfProducts</th>\n",
       "      <th>HasCrCard</th>\n",
       "      <th>IsActiveMember</th>\n",
       "      <th>EstimatedSalary</th>\n",
       "      <th>Exited</th>\n",
       "    </tr>\n",
       "  </thead>\n",
       "  <tbody>\n",
       "    <tr>\n",
       "      <th>0</th>\n",
       "      <td>1</td>\n",
       "      <td>15634602</td>\n",
       "      <td>Hargrave</td>\n",
       "      <td>619</td>\n",
       "      <td>France</td>\n",
       "      <td>Female</td>\n",
       "      <td>42</td>\n",
       "      <td>2</td>\n",
       "      <td>0.00</td>\n",
       "      <td>1</td>\n",
       "      <td>1</td>\n",
       "      <td>1</td>\n",
       "      <td>101348.88</td>\n",
       "      <td>1</td>\n",
       "    </tr>\n",
       "    <tr>\n",
       "      <th>1</th>\n",
       "      <td>2</td>\n",
       "      <td>15647311</td>\n",
       "      <td>Hill</td>\n",
       "      <td>608</td>\n",
       "      <td>Spain</td>\n",
       "      <td>Female</td>\n",
       "      <td>41</td>\n",
       "      <td>1</td>\n",
       "      <td>83807.86</td>\n",
       "      <td>1</td>\n",
       "      <td>0</td>\n",
       "      <td>1</td>\n",
       "      <td>112542.58</td>\n",
       "      <td>0</td>\n",
       "    </tr>\n",
       "    <tr>\n",
       "      <th>2</th>\n",
       "      <td>3</td>\n",
       "      <td>15619304</td>\n",
       "      <td>Onio</td>\n",
       "      <td>502</td>\n",
       "      <td>France</td>\n",
       "      <td>Female</td>\n",
       "      <td>42</td>\n",
       "      <td>8</td>\n",
       "      <td>159660.80</td>\n",
       "      <td>3</td>\n",
       "      <td>1</td>\n",
       "      <td>0</td>\n",
       "      <td>113931.57</td>\n",
       "      <td>1</td>\n",
       "    </tr>\n",
       "    <tr>\n",
       "      <th>3</th>\n",
       "      <td>4</td>\n",
       "      <td>15701354</td>\n",
       "      <td>Boni</td>\n",
       "      <td>699</td>\n",
       "      <td>France</td>\n",
       "      <td>Female</td>\n",
       "      <td>39</td>\n",
       "      <td>1</td>\n",
       "      <td>0.00</td>\n",
       "      <td>2</td>\n",
       "      <td>0</td>\n",
       "      <td>0</td>\n",
       "      <td>93826.63</td>\n",
       "      <td>0</td>\n",
       "    </tr>\n",
       "    <tr>\n",
       "      <th>4</th>\n",
       "      <td>5</td>\n",
       "      <td>15737888</td>\n",
       "      <td>Mitchell</td>\n",
       "      <td>850</td>\n",
       "      <td>Spain</td>\n",
       "      <td>Female</td>\n",
       "      <td>43</td>\n",
       "      <td>2</td>\n",
       "      <td>125510.82</td>\n",
       "      <td>1</td>\n",
       "      <td>1</td>\n",
       "      <td>1</td>\n",
       "      <td>79084.10</td>\n",
       "      <td>0</td>\n",
       "    </tr>\n",
       "    <tr>\n",
       "      <th>...</th>\n",
       "      <td>...</td>\n",
       "      <td>...</td>\n",
       "      <td>...</td>\n",
       "      <td>...</td>\n",
       "      <td>...</td>\n",
       "      <td>...</td>\n",
       "      <td>...</td>\n",
       "      <td>...</td>\n",
       "      <td>...</td>\n",
       "      <td>...</td>\n",
       "      <td>...</td>\n",
       "      <td>...</td>\n",
       "      <td>...</td>\n",
       "      <td>...</td>\n",
       "    </tr>\n",
       "    <tr>\n",
       "      <th>9995</th>\n",
       "      <td>9996</td>\n",
       "      <td>15606229</td>\n",
       "      <td>Obijiaku</td>\n",
       "      <td>771</td>\n",
       "      <td>France</td>\n",
       "      <td>Male</td>\n",
       "      <td>39</td>\n",
       "      <td>5</td>\n",
       "      <td>0.00</td>\n",
       "      <td>2</td>\n",
       "      <td>1</td>\n",
       "      <td>0</td>\n",
       "      <td>96270.64</td>\n",
       "      <td>0</td>\n",
       "    </tr>\n",
       "    <tr>\n",
       "      <th>9996</th>\n",
       "      <td>9997</td>\n",
       "      <td>15569892</td>\n",
       "      <td>Johnstone</td>\n",
       "      <td>516</td>\n",
       "      <td>France</td>\n",
       "      <td>Male</td>\n",
       "      <td>35</td>\n",
       "      <td>10</td>\n",
       "      <td>57369.61</td>\n",
       "      <td>1</td>\n",
       "      <td>1</td>\n",
       "      <td>1</td>\n",
       "      <td>101699.77</td>\n",
       "      <td>0</td>\n",
       "    </tr>\n",
       "    <tr>\n",
       "      <th>9997</th>\n",
       "      <td>9998</td>\n",
       "      <td>15584532</td>\n",
       "      <td>Liu</td>\n",
       "      <td>709</td>\n",
       "      <td>France</td>\n",
       "      <td>Female</td>\n",
       "      <td>36</td>\n",
       "      <td>7</td>\n",
       "      <td>0.00</td>\n",
       "      <td>1</td>\n",
       "      <td>0</td>\n",
       "      <td>1</td>\n",
       "      <td>42085.58</td>\n",
       "      <td>1</td>\n",
       "    </tr>\n",
       "    <tr>\n",
       "      <th>9998</th>\n",
       "      <td>9999</td>\n",
       "      <td>15682355</td>\n",
       "      <td>Sabbatini</td>\n",
       "      <td>772</td>\n",
       "      <td>Germany</td>\n",
       "      <td>Male</td>\n",
       "      <td>42</td>\n",
       "      <td>3</td>\n",
       "      <td>75075.31</td>\n",
       "      <td>2</td>\n",
       "      <td>1</td>\n",
       "      <td>0</td>\n",
       "      <td>92888.52</td>\n",
       "      <td>1</td>\n",
       "    </tr>\n",
       "    <tr>\n",
       "      <th>9999</th>\n",
       "      <td>10000</td>\n",
       "      <td>15628319</td>\n",
       "      <td>Walker</td>\n",
       "      <td>792</td>\n",
       "      <td>France</td>\n",
       "      <td>Female</td>\n",
       "      <td>28</td>\n",
       "      <td>4</td>\n",
       "      <td>130142.79</td>\n",
       "      <td>1</td>\n",
       "      <td>1</td>\n",
       "      <td>0</td>\n",
       "      <td>38190.78</td>\n",
       "      <td>0</td>\n",
       "    </tr>\n",
       "  </tbody>\n",
       "</table>\n",
       "<p>10000 rows × 14 columns</p>\n",
       "</div>"
      ],
      "text/plain": [
       "      RowNumber  CustomerId    Surname  CreditScore Geography  Gender  Age  \\\n",
       "0             1    15634602   Hargrave          619    France  Female   42   \n",
       "1             2    15647311       Hill          608     Spain  Female   41   \n",
       "2             3    15619304       Onio          502    France  Female   42   \n",
       "3             4    15701354       Boni          699    France  Female   39   \n",
       "4             5    15737888   Mitchell          850     Spain  Female   43   \n",
       "...         ...         ...        ...          ...       ...     ...  ...   \n",
       "9995       9996    15606229   Obijiaku          771    France    Male   39   \n",
       "9996       9997    15569892  Johnstone          516    France    Male   35   \n",
       "9997       9998    15584532        Liu          709    France  Female   36   \n",
       "9998       9999    15682355  Sabbatini          772   Germany    Male   42   \n",
       "9999      10000    15628319     Walker          792    France  Female   28   \n",
       "\n",
       "      Tenure    Balance  NumOfProducts  HasCrCard  IsActiveMember  \\\n",
       "0          2       0.00              1          1               1   \n",
       "1          1   83807.86              1          0               1   \n",
       "2          8  159660.80              3          1               0   \n",
       "3          1       0.00              2          0               0   \n",
       "4          2  125510.82              1          1               1   \n",
       "...      ...        ...            ...        ...             ...   \n",
       "9995       5       0.00              2          1               0   \n",
       "9996      10   57369.61              1          1               1   \n",
       "9997       7       0.00              1          0               1   \n",
       "9998       3   75075.31              2          1               0   \n",
       "9999       4  130142.79              1          1               0   \n",
       "\n",
       "      EstimatedSalary  Exited  \n",
       "0           101348.88       1  \n",
       "1           112542.58       0  \n",
       "2           113931.57       1  \n",
       "3            93826.63       0  \n",
       "4            79084.10       0  \n",
       "...               ...     ...  \n",
       "9995         96270.64       0  \n",
       "9996        101699.77       0  \n",
       "9997         42085.58       1  \n",
       "9998         92888.52       1  \n",
       "9999         38190.78       0  \n",
       "\n",
       "[10000 rows x 14 columns]"
      ]
     },
     "execution_count": 2,
     "metadata": {},
     "output_type": "execute_result"
    }
   ],
   "source": [
    "# getting the dataset and displaying the data\n",
    "df = pd.read_csv(\"DATASET_for_ANN.csv\")\n",
    "df"
   ]
  },
  {
   "cell_type": "markdown",
   "id": "c4ab6f8e",
   "metadata": {},
   "source": [
    "# Exploratory Data Analysis"
   ]
  },
  {
   "cell_type": "code",
   "execution_count": 3,
   "id": "c990afed",
   "metadata": {},
   "outputs": [
    {
     "data": {
      "text/plain": [
       "RowNumber          0\n",
       "CustomerId         0\n",
       "Surname            0\n",
       "CreditScore        0\n",
       "Geography          0\n",
       "Gender             0\n",
       "Age                0\n",
       "Tenure             0\n",
       "Balance            0\n",
       "NumOfProducts      0\n",
       "HasCrCard          0\n",
       "IsActiveMember     0\n",
       "EstimatedSalary    0\n",
       "Exited             0\n",
       "dtype: int64"
      ]
     },
     "execution_count": 3,
     "metadata": {},
     "output_type": "execute_result"
    }
   ],
   "source": [
    "# First of all we check wether there are null values or not\n",
    "df.isnull().sum() #There are not null values"
   ]
  },
  {
   "cell_type": "markdown",
   "id": "5067085b",
   "metadata": {},
   "source": [
    "#### We will describe the data to see weather we want to apply standard scaling or not"
   ]
  },
  {
   "cell_type": "code",
   "execution_count": 4,
   "id": "ddefab96",
   "metadata": {},
   "outputs": [
    {
     "data": {
      "text/html": [
       "<div>\n",
       "<style scoped>\n",
       "    .dataframe tbody tr th:only-of-type {\n",
       "        vertical-align: middle;\n",
       "    }\n",
       "\n",
       "    .dataframe tbody tr th {\n",
       "        vertical-align: top;\n",
       "    }\n",
       "\n",
       "    .dataframe thead th {\n",
       "        text-align: right;\n",
       "    }\n",
       "</style>\n",
       "<table border=\"1\" class=\"dataframe\">\n",
       "  <thead>\n",
       "    <tr style=\"text-align: right;\">\n",
       "      <th></th>\n",
       "      <th>RowNumber</th>\n",
       "      <th>CustomerId</th>\n",
       "      <th>CreditScore</th>\n",
       "      <th>Age</th>\n",
       "      <th>Tenure</th>\n",
       "      <th>Balance</th>\n",
       "      <th>NumOfProducts</th>\n",
       "      <th>HasCrCard</th>\n",
       "      <th>IsActiveMember</th>\n",
       "      <th>EstimatedSalary</th>\n",
       "      <th>Exited</th>\n",
       "    </tr>\n",
       "  </thead>\n",
       "  <tbody>\n",
       "    <tr>\n",
       "      <th>count</th>\n",
       "      <td>10000.00000</td>\n",
       "      <td>1.000000e+04</td>\n",
       "      <td>10000.000000</td>\n",
       "      <td>10000.000000</td>\n",
       "      <td>10000.000000</td>\n",
       "      <td>10000.000000</td>\n",
       "      <td>10000.000000</td>\n",
       "      <td>10000.00000</td>\n",
       "      <td>10000.000000</td>\n",
       "      <td>10000.000000</td>\n",
       "      <td>10000.000000</td>\n",
       "    </tr>\n",
       "    <tr>\n",
       "      <th>mean</th>\n",
       "      <td>5000.50000</td>\n",
       "      <td>1.569094e+07</td>\n",
       "      <td>650.528800</td>\n",
       "      <td>38.921800</td>\n",
       "      <td>5.012800</td>\n",
       "      <td>76485.889288</td>\n",
       "      <td>1.530200</td>\n",
       "      <td>0.70550</td>\n",
       "      <td>0.515100</td>\n",
       "      <td>100090.239881</td>\n",
       "      <td>0.203700</td>\n",
       "    </tr>\n",
       "    <tr>\n",
       "      <th>std</th>\n",
       "      <td>2886.89568</td>\n",
       "      <td>7.193619e+04</td>\n",
       "      <td>96.653299</td>\n",
       "      <td>10.487806</td>\n",
       "      <td>2.892174</td>\n",
       "      <td>62397.405202</td>\n",
       "      <td>0.581654</td>\n",
       "      <td>0.45584</td>\n",
       "      <td>0.499797</td>\n",
       "      <td>57510.492818</td>\n",
       "      <td>0.402769</td>\n",
       "    </tr>\n",
       "    <tr>\n",
       "      <th>min</th>\n",
       "      <td>1.00000</td>\n",
       "      <td>1.556570e+07</td>\n",
       "      <td>350.000000</td>\n",
       "      <td>18.000000</td>\n",
       "      <td>0.000000</td>\n",
       "      <td>0.000000</td>\n",
       "      <td>1.000000</td>\n",
       "      <td>0.00000</td>\n",
       "      <td>0.000000</td>\n",
       "      <td>11.580000</td>\n",
       "      <td>0.000000</td>\n",
       "    </tr>\n",
       "    <tr>\n",
       "      <th>25%</th>\n",
       "      <td>2500.75000</td>\n",
       "      <td>1.562853e+07</td>\n",
       "      <td>584.000000</td>\n",
       "      <td>32.000000</td>\n",
       "      <td>3.000000</td>\n",
       "      <td>0.000000</td>\n",
       "      <td>1.000000</td>\n",
       "      <td>0.00000</td>\n",
       "      <td>0.000000</td>\n",
       "      <td>51002.110000</td>\n",
       "      <td>0.000000</td>\n",
       "    </tr>\n",
       "    <tr>\n",
       "      <th>50%</th>\n",
       "      <td>5000.50000</td>\n",
       "      <td>1.569074e+07</td>\n",
       "      <td>652.000000</td>\n",
       "      <td>37.000000</td>\n",
       "      <td>5.000000</td>\n",
       "      <td>97198.540000</td>\n",
       "      <td>1.000000</td>\n",
       "      <td>1.00000</td>\n",
       "      <td>1.000000</td>\n",
       "      <td>100193.915000</td>\n",
       "      <td>0.000000</td>\n",
       "    </tr>\n",
       "    <tr>\n",
       "      <th>75%</th>\n",
       "      <td>7500.25000</td>\n",
       "      <td>1.575323e+07</td>\n",
       "      <td>718.000000</td>\n",
       "      <td>44.000000</td>\n",
       "      <td>7.000000</td>\n",
       "      <td>127644.240000</td>\n",
       "      <td>2.000000</td>\n",
       "      <td>1.00000</td>\n",
       "      <td>1.000000</td>\n",
       "      <td>149388.247500</td>\n",
       "      <td>0.000000</td>\n",
       "    </tr>\n",
       "    <tr>\n",
       "      <th>max</th>\n",
       "      <td>10000.00000</td>\n",
       "      <td>1.581569e+07</td>\n",
       "      <td>850.000000</td>\n",
       "      <td>92.000000</td>\n",
       "      <td>10.000000</td>\n",
       "      <td>250898.090000</td>\n",
       "      <td>4.000000</td>\n",
       "      <td>1.00000</td>\n",
       "      <td>1.000000</td>\n",
       "      <td>199992.480000</td>\n",
       "      <td>1.000000</td>\n",
       "    </tr>\n",
       "  </tbody>\n",
       "</table>\n",
       "</div>"
      ],
      "text/plain": [
       "         RowNumber    CustomerId   CreditScore           Age        Tenure  \\\n",
       "count  10000.00000  1.000000e+04  10000.000000  10000.000000  10000.000000   \n",
       "mean    5000.50000  1.569094e+07    650.528800     38.921800      5.012800   \n",
       "std     2886.89568  7.193619e+04     96.653299     10.487806      2.892174   \n",
       "min        1.00000  1.556570e+07    350.000000     18.000000      0.000000   \n",
       "25%     2500.75000  1.562853e+07    584.000000     32.000000      3.000000   \n",
       "50%     5000.50000  1.569074e+07    652.000000     37.000000      5.000000   \n",
       "75%     7500.25000  1.575323e+07    718.000000     44.000000      7.000000   \n",
       "max    10000.00000  1.581569e+07    850.000000     92.000000     10.000000   \n",
       "\n",
       "             Balance  NumOfProducts    HasCrCard  IsActiveMember  \\\n",
       "count   10000.000000   10000.000000  10000.00000    10000.000000   \n",
       "mean    76485.889288       1.530200      0.70550        0.515100   \n",
       "std     62397.405202       0.581654      0.45584        0.499797   \n",
       "min         0.000000       1.000000      0.00000        0.000000   \n",
       "25%         0.000000       1.000000      0.00000        0.000000   \n",
       "50%     97198.540000       1.000000      1.00000        1.000000   \n",
       "75%    127644.240000       2.000000      1.00000        1.000000   \n",
       "max    250898.090000       4.000000      1.00000        1.000000   \n",
       "\n",
       "       EstimatedSalary        Exited  \n",
       "count     10000.000000  10000.000000  \n",
       "mean     100090.239881      0.203700  \n",
       "std       57510.492818      0.402769  \n",
       "min          11.580000      0.000000  \n",
       "25%       51002.110000      0.000000  \n",
       "50%      100193.915000      0.000000  \n",
       "75%      149388.247500      0.000000  \n",
       "max      199992.480000      1.000000  "
      ]
     },
     "execution_count": 4,
     "metadata": {},
     "output_type": "execute_result"
    }
   ],
   "source": [
    "df.describe()\n",
    "#There is a need to apply standard scaling on Balance , Estimated Salary "
   ]
  },
  {
   "cell_type": "markdown",
   "id": "356fefea",
   "metadata": {},
   "source": [
    "#### Applying one hot encoder on Geography and label encoder on Gender "
   ]
  },
  {
   "cell_type": "code",
   "execution_count": 5,
   "id": "f19cee0f",
   "metadata": {},
   "outputs": [],
   "source": [
    "geography = pd.get_dummies(df.Geography, prefix='Country')\n",
    "df = pd.concat([df,geography],axis=1)\n",
    "\n",
    "label_encoder = LabelEncoder()\n",
    "gender_encoding = label_encoder.fit_transform(df['Gender'])\n",
    "df['Gender'] = gender_encoding"
   ]
  },
  {
   "cell_type": "code",
   "execution_count": 6,
   "id": "5c5cd6a0",
   "metadata": {},
   "outputs": [],
   "source": [
    "# We will remove the old Geography as one hot encoder has been replaced for that\n",
    "# We will also remove RowNumber, CustomerID and Surname from the data as this has nothing to do with the target\n",
    "df.drop(['Geography','Surname','RowNumber','CustomerId'],axis=1, inplace=True)"
   ]
  },
  {
   "cell_type": "markdown",
   "id": "a789a4e6",
   "metadata": {},
   "source": [
    "#### Splitting the data into Feature X and target y"
   ]
  },
  {
   "cell_type": "code",
   "execution_count": 7,
   "id": "48e4efb2",
   "metadata": {},
   "outputs": [],
   "source": [
    "y = df['Exited']\n",
    "X = df.drop(['Exited'],axis=1)"
   ]
  },
  {
   "cell_type": "markdown",
   "id": "8b01d650",
   "metadata": {},
   "source": [
    "#### Calculating feature importance by Univariate Method"
   ]
  },
  {
   "cell_type": "code",
   "execution_count": 8,
   "id": "696748da",
   "metadata": {},
   "outputs": [
    {
     "name": "stdout",
     "output_type": "stream",
     "text": [
      "         Feat_names    F_Scores\n",
      "2               Age  886.063275\n",
      "10  Country_Germany  310.258384\n",
      "7    IsActiveMember  249.800794\n",
      "4           Balance  142.473832\n",
      "1            Gender  114.727989\n",
      "9    Country_France  111.360517\n",
      "11    Country_Spain   27.809468\n",
      "5     NumOfProducts   22.915223\n",
      "0       CreditScore    7.344522\n",
      "3            Tenure    1.960164\n",
      "8   EstimatedSalary    1.463262\n",
      "6         HasCrCard    0.509401\n"
     ]
    }
   ],
   "source": [
    "selector = SelectKBest(f_classif, k = 'all')\n",
    "\n",
    "X_new = selector.fit_transform(X, y)\n",
    "names = X.columns.values[selector.get_support()]\n",
    "scores = selector.scores_[selector.get_support()]\n",
    "names_scores = list(zip(names, scores))\n",
    "ns_df = pd.DataFrame(data = names_scores, columns=['Feat_names', 'F_Scores'])\n",
    "featuresSelected = names\n",
    "ns_df_sorted = ns_df.sort_values(['F_Scores', 'Feat_names'], ascending = [False, True])\n",
    "print(ns_df_sorted)"
   ]
  },
  {
   "cell_type": "code",
   "execution_count": 9,
   "id": "8b5de6e7",
   "metadata": {},
   "outputs": [
    {
     "data": {
      "text/plain": [
       "<AxesSubplot:xlabel='F_Scores', ylabel='Feat_names'>"
      ]
     },
     "execution_count": 9,
     "metadata": {},
     "output_type": "execute_result"
    },
    {
     "data": {
      "image/png": "[encoded data removed]",
      "text/plain": [
       "<Figure size 432x288 with 1 Axes>"
      ]
     },
     "metadata": {
      "needs_background": "light"
     },
     "output_type": "display_data"
    }
   ],
   "source": [
    "# HasCrCard has the least contribution to the data. But we are still going to use it.\n",
    "sns.barplot(x='F_Scores',y='Feat_names',data=ns_df_sorted )"
   ]
  },
  {
   "cell_type": "markdown",
   "id": "27a6fb5a",
   "metadata": {},
   "source": [
    "#### Checking Imbalance Data"
   ]
  },
  {
   "cell_type": "code",
   "execution_count": 10,
   "id": "6f3ab385",
   "metadata": {},
   "outputs": [
    {
     "name": "stderr",
     "output_type": "stream",
     "text": [
      "/home/hassan/.local/lib/python3.8/site-packages/seaborn/_decorators.py:36: FutureWarning: Pass the following variable as a keyword arg: x. From version 0.12, the only valid positional argument will be `data`, and passing other arguments without an explicit keyword will result in an error or misinterpretation.\n",
      "  warnings.warn(\n"
     ]
    },
    {
     "data": {
      "text/plain": [
       "<AxesSubplot:xlabel='Exited', ylabel='count'>"
      ]
     },
     "execution_count": 10,
     "metadata": {},
     "output_type": "execute_result"
    },
    {
     "data": {
      "image/png": "[encoded data removed]",
      "text/plain": [
       "<Figure size 432x288 with 1 Axes>"
      ]
     },
     "metadata": {
      "needs_background": "light"
     },
     "output_type": "display_data"
    }
   ],
   "source": [
    "#As the data is not balanced so we have to Upsample the data\n",
    "sns.countplot(y)"
   ]
  },
  {
   "cell_type": "code",
   "execution_count": 11,
   "id": "6fa2d89a",
   "metadata": {},
   "outputs": [
    {
     "name": "stderr",
     "output_type": "stream",
     "text": [
      "/home/hassan/.local/lib/python3.8/site-packages/seaborn/_decorators.py:36: FutureWarning: Pass the following variable as a keyword arg: x. From version 0.12, the only valid positional argument will be `data`, and passing other arguments without an explicit keyword will result in an error or misinterpretation.\n",
      "  warnings.warn(\n"
     ]
    },
    {
     "data": {
      "text/plain": [
       "<AxesSubplot:xlabel='Exited', ylabel='count'>"
      ]
     },
     "execution_count": 11,
     "metadata": {},
     "output_type": "execute_result"
    },
    {
     "data": {
      "image/png": "[encoded data removed]",
      "text/plain": [
       "<Figure size 432x288 with 1 Axes>"
      ]
     },
     "metadata": {
      "needs_background": "light"
     },
     "output_type": "display_data"
    }
   ],
   "source": [
    "smote = SMOTE()\n",
    "X, y = smote.fit_resample(X,y)\n",
    "#After that the data is balanced perfectly\n",
    "sns.countplot(y)"
   ]
  },
  {
   "cell_type": "markdown",
   "id": "3f079c0b",
   "metadata": {},
   "source": [
    "## Splitting the Data & Standard Scaling "
   ]
  },
  {
   "cell_type": "code",
   "execution_count": 12,
   "id": "7761bdeb",
   "metadata": {},
   "outputs": [],
   "source": [
    "#Here we are splitting the data into training and testing data. Testing data is 20 percent where as training data is 80%\n",
    "X_train, X_test, y_train, y_test = train_test_split(X, y, test_size = 0.2, random_state = 1)\n",
    "\n",
    "sc = StandardScaler()\n",
    "X_train = sc.fit_transform(X_train)\n",
    "X_test = sc.transform(X_test)"
   ]
  },
  {
   "cell_type": "markdown",
   "id": "dab41ff0",
   "metadata": {},
   "source": [
    "# Model Training"
   ]
  },
  {
   "cell_type": "code",
   "execution_count": 13,
   "id": "51334f11",
   "metadata": {},
   "outputs": [
    {
     "name": "stderr",
     "output_type": "stream",
     "text": [
      "2021-11-30 01:49:27.713289: W tensorflow/stream_executor/platform/default/dso_loader.cc:64] Could not load dynamic library 'libcudart.so.11.0'; dlerror: libcudart.so.11.0: cannot open shared object file: No such file or directory\n",
      "2021-11-30 01:49:27.713310: I tensorflow/stream_executor/cuda/cudart_stub.cc:29] Ignore above cudart dlerror if you do not have a GPU set up on your machine.\n",
      "2021-11-30 01:49:28.583119: W tensorflow/stream_executor/platform/default/dso_loader.cc:64] Could not load dynamic library 'libcuda.so.1'; dlerror: libcuda.so.1: cannot open shared object file: No such file or directory\n",
      "2021-11-30 01:49:28.583145: W tensorflow/stream_executor/cuda/cuda_driver.cc:269] failed call to cuInit: UNKNOWN ERROR (303)\n",
      "2021-11-30 01:49:28.583158: I tensorflow/stream_executor/cuda/cuda_diagnostics.cc:156] kernel driver does not appear to be running on this host (ibnalsaad): /proc/driver/nvidia/version does not exist\n",
      "2021-11-30 01:49:28.583348: I tensorflow/core/platform/cpu_feature_guard.cc:151] This TensorFlow binary is optimized with oneAPI Deep Neural Network Library (oneDNN) to use the following CPU instructions in performance-critical operations:  AVX2 AVX512F FMA\n",
      "To enable them in other operations, rebuild TensorFlow with the appropriate compiler flags.\n"
     ]
    }
   ],
   "source": [
    "from tensorflow import keras\n",
    "model = keras.Sequential([\n",
    "    #input shape is defined by number of feature\n",
    "    #32 is the number of hidden layer \n",
    "    keras.layers.Dense(32, input_shape=(12,), activation='relu'),\n",
    "    keras.layers.Dense(11, activation='relu'),\n",
    "    #Last layer activation is sigmoid as there is only 0 or 1 output\n",
    "    keras.layers.Dense(1, activation='sigmoid')\n",
    "])\n",
    "\n",
    "opt = keras.optimizers.Adam(learning_rate=0.001)\n",
    "\n",
    "model.compile(optimizer=opt,\n",
    "              loss='binary_crossentropy',\n",
    "              metrics=['accuracy'])"
   ]
  },
  {
   "cell_type": "code",
   "execution_count": 14,
   "id": "44027c10",
   "metadata": {},
   "outputs": [
    {
     "name": "stdout",
     "output_type": "stream",
     "text": [
      "Model: \"sequential\"\n",
      "_________________________________________________________________\n",
      " Layer (type)                Output Shape              Param #   \n",
      "=================================================================\n",
      " dense (Dense)               (None, 32)                416       \n",
      "                                                                 \n",
      " dense_1 (Dense)             (None, 11)                363       \n",
      "                                                                 \n",
      " dense_2 (Dense)             (None, 1)                 12        \n",
      "                                                                 \n",
      "=================================================================\n",
      "Total params: 791\n",
      "Trainable params: 791\n",
      "Non-trainable params: 0\n",
      "_________________________________________________________________\n"
     ]
    }
   ],
   "source": [
    "#Model Summary will tell us the architecture of our model\n",
    "model.summary()"
   ]
  },
  {
   "cell_type": "code",
   "execution_count": 15,
   "id": "8bfd2136",
   "metadata": {},
   "outputs": [
    {
     "name": "stdout",
     "output_type": "stream",
     "text": [
      "Epoch 1/100\n",
      "399/399 [==============================] - 1s 724us/step - loss: 0.4520 - accuracy: 0.7911\n",
      "Epoch 2/100\n",
      "399/399 [==============================] - 0s 741us/step - loss: 0.3594 - accuracy: 0.8408\n",
      "Epoch 3/100\n",
      "399/399 [==============================] - 0s 742us/step - loss: 0.3361 - accuracy: 0.8505\n",
      "Epoch 4/100\n",
      "399/399 [==============================] - 0s 717us/step - loss: 0.3260 - accuracy: 0.8549\n",
      "Epoch 5/100\n",
      "399/399 [==============================] - 0s 739us/step - loss: 0.3204 - accuracy: 0.8569\n",
      "Epoch 6/100\n",
      "399/399 [==============================] - 0s 704us/step - loss: 0.3174 - accuracy: 0.8589\n",
      "Epoch 7/100\n",
      "399/399 [==============================] - 0s 724us/step - loss: 0.3149 - accuracy: 0.8584\n",
      "Epoch 8/100\n",
      "399/399 [==============================] - 0s 714us/step - loss: 0.3127 - accuracy: 0.8602\n",
      "Epoch 9/100\n",
      "399/399 [==============================] - 0s 722us/step - loss: 0.3113 - accuracy: 0.8621\n",
      "Epoch 10/100\n",
      "399/399 [==============================] - 0s 711us/step - loss: 0.3094 - accuracy: 0.8621\n",
      "Epoch 11/100\n",
      "399/399 [==============================] - 0s 735us/step - loss: 0.3078 - accuracy: 0.8622\n",
      "Epoch 12/100\n",
      "399/399 [==============================] - 0s 721us/step - loss: 0.3069 - accuracy: 0.8623\n",
      "Epoch 13/100\n",
      "399/399 [==============================] - 0s 900us/step - loss: 0.3056 - accuracy: 0.8648\n",
      "Epoch 14/100\n",
      "399/399 [==============================] - 0s 751us/step - loss: 0.3041 - accuracy: 0.8651\n",
      "Epoch 15/100\n",
      "399/399 [==============================] - 0s 730us/step - loss: 0.3027 - accuracy: 0.8655\n",
      "Epoch 16/100\n",
      "399/399 [==============================] - 0s 736us/step - loss: 0.3019 - accuracy: 0.8662\n",
      "Epoch 17/100\n",
      "399/399 [==============================] - 0s 866us/step - loss: 0.3017 - accuracy: 0.8675\n",
      "Epoch 18/100\n",
      "399/399 [==============================] - 0s 901us/step - loss: 0.3002 - accuracy: 0.8659\n",
      "Epoch 19/100\n",
      "399/399 [==============================] - 0s 784us/step - loss: 0.2990 - accuracy: 0.8684\n",
      "Epoch 20/100\n",
      "399/399 [==============================] - 0s 840us/step - loss: 0.2980 - accuracy: 0.8677\n",
      "Epoch 21/100\n",
      "399/399 [==============================] - 0s 771us/step - loss: 0.2979 - accuracy: 0.8677\n",
      "Epoch 22/100\n",
      "399/399 [==============================] - 0s 624us/step - loss: 0.2974 - accuracy: 0.8686\n",
      "Epoch 23/100\n",
      "399/399 [==============================] - 0s 724us/step - loss: 0.2961 - accuracy: 0.8695\n",
      "Epoch 24/100\n",
      "399/399 [==============================] - 0s 834us/step - loss: 0.2952 - accuracy: 0.8702\n",
      "Epoch 25/100\n",
      "399/399 [==============================] - 0s 825us/step - loss: 0.2941 - accuracy: 0.8707\n",
      "Epoch 26/100\n",
      "399/399 [==============================] - 0s 693us/step - loss: 0.2942 - accuracy: 0.8705\n",
      "Epoch 27/100\n",
      "399/399 [==============================] - 0s 641us/step - loss: 0.2935 - accuracy: 0.8701\n",
      "Epoch 28/100\n",
      "399/399 [==============================] - 0s 804us/step - loss: 0.2935 - accuracy: 0.8709\n",
      "Epoch 29/100\n",
      "399/399 [==============================] - 0s 662us/step - loss: 0.2927 - accuracy: 0.8714\n",
      "Epoch 30/100\n",
      "399/399 [==============================] - 0s 680us/step - loss: 0.2917 - accuracy: 0.8724\n",
      "Epoch 31/100\n",
      "399/399 [==============================] - 0s 658us/step - loss: 0.2912 - accuracy: 0.8727\n",
      "Epoch 32/100\n",
      "399/399 [==============================] - 0s 670us/step - loss: 0.2902 - accuracy: 0.8726\n",
      "Epoch 33/100\n",
      "399/399 [==============================] - 0s 695us/step - loss: 0.2901 - accuracy: 0.8729\n",
      "Epoch 34/100\n",
      "399/399 [==============================] - 0s 886us/step - loss: 0.2897 - accuracy: 0.8723\n",
      "Epoch 35/100\n",
      "399/399 [==============================] - 0s 749us/step - loss: 0.2895 - accuracy: 0.8716\n",
      "Epoch 36/100\n",
      "399/399 [==============================] - 0s 682us/step - loss: 0.2888 - accuracy: 0.8752\n",
      "Epoch 37/100\n",
      "399/399 [==============================] - 0s 651us/step - loss: 0.2881 - accuracy: 0.8725\n",
      "Epoch 38/100\n",
      "399/399 [==============================] - 0s 643us/step - loss: 0.2881 - accuracy: 0.8731\n",
      "Epoch 39/100\n",
      "399/399 [==============================] - 0s 658us/step - loss: 0.2866 - accuracy: 0.8742\n",
      "Epoch 40/100\n",
      "399/399 [==============================] - 0s 642us/step - loss: 0.2862 - accuracy: 0.8726\n",
      "Epoch 41/100\n",
      "399/399 [==============================] - 0s 673us/step - loss: 0.2865 - accuracy: 0.8717\n",
      "Epoch 42/100\n",
      "399/399 [==============================] - 0s 642us/step - loss: 0.2854 - accuracy: 0.8741\n",
      "Epoch 43/100\n",
      "399/399 [==============================] - 0s 668us/step - loss: 0.2852 - accuracy: 0.8748\n",
      "Epoch 44/100\n",
      "399/399 [==============================] - 0s 639us/step - loss: 0.2845 - accuracy: 0.8765\n",
      "Epoch 45/100\n",
      "399/399 [==============================] - 0s 658us/step - loss: 0.2841 - accuracy: 0.8768\n",
      "Epoch 46/100\n",
      "399/399 [==============================] - 0s 674us/step - loss: 0.2843 - accuracy: 0.8746\n",
      "Epoch 47/100\n",
      "399/399 [==============================] - 0s 628us/step - loss: 0.2846 - accuracy: 0.8744\n",
      "Epoch 48/100\n",
      "399/399 [==============================] - 0s 647us/step - loss: 0.2830 - accuracy: 0.8763\n",
      "Epoch 49/100\n",
      "399/399 [==============================] - 0s 649us/step - loss: 0.2829 - accuracy: 0.8765\n",
      "Epoch 50/100\n",
      "399/399 [==============================] - 0s 644us/step - loss: 0.2813 - accuracy: 0.8768\n",
      "Epoch 51/100\n",
      "399/399 [==============================] - 0s 644us/step - loss: 0.2820 - accuracy: 0.8764\n",
      "Epoch 52/100\n",
      "399/399 [==============================] - 0s 647us/step - loss: 0.2812 - accuracy: 0.8775\n",
      "Epoch 53/100\n",
      "399/399 [==============================] - 0s 639us/step - loss: 0.2816 - accuracy: 0.8761\n",
      "Epoch 54/100\n",
      "399/399 [==============================] - 0s 669us/step - loss: 0.2802 - accuracy: 0.8785\n",
      "Epoch 55/100\n",
      "399/399 [==============================] - 0s 639us/step - loss: 0.2809 - accuracy: 0.8777\n",
      "Epoch 56/100\n",
      "399/399 [==============================] - 0s 675us/step - loss: 0.2797 - accuracy: 0.8762\n",
      "Epoch 57/100\n",
      "399/399 [==============================] - 0s 680us/step - loss: 0.2802 - accuracy: 0.8774\n",
      "Epoch 58/100\n",
      "399/399 [==============================] - 0s 626us/step - loss: 0.2787 - accuracy: 0.8797\n",
      "Epoch 59/100\n",
      "399/399 [==============================] - 0s 645us/step - loss: 0.2793 - accuracy: 0.8787\n",
      "Epoch 60/100\n",
      "399/399 [==============================] - 0s 663us/step - loss: 0.2780 - accuracy: 0.8795\n",
      "Epoch 61/100\n",
      "399/399 [==============================] - 0s 643us/step - loss: 0.2785 - accuracy: 0.8772\n",
      "Epoch 62/100\n",
      "399/399 [==============================] - 0s 746us/step - loss: 0.2785 - accuracy: 0.8780\n",
      "Epoch 63/100\n",
      "399/399 [==============================] - 0s 640us/step - loss: 0.2769 - accuracy: 0.8777\n",
      "Epoch 64/100\n",
      "399/399 [==============================] - 0s 625us/step - loss: 0.2766 - accuracy: 0.8783\n",
      "Epoch 65/100\n",
      "399/399 [==============================] - 0s 622us/step - loss: 0.2768 - accuracy: 0.8789\n",
      "Epoch 66/100\n",
      "399/399 [==============================] - 0s 630us/step - loss: 0.2760 - accuracy: 0.8792\n",
      "Epoch 67/100\n",
      "399/399 [==============================] - 0s 626us/step - loss: 0.2761 - accuracy: 0.8768\n",
      "Epoch 68/100\n",
      "399/399 [==============================] - 0s 629us/step - loss: 0.2756 - accuracy: 0.8770\n",
      "Epoch 69/100\n",
      "399/399 [==============================] - 0s 640us/step - loss: 0.2749 - accuracy: 0.8792\n",
      "Epoch 70/100\n",
      "399/399 [==============================] - 0s 622us/step - loss: 0.2757 - accuracy: 0.8779\n",
      "Epoch 71/100\n",
      "399/399 [==============================] - 0s 624us/step - loss: 0.2748 - accuracy: 0.8808\n",
      "Epoch 72/100\n",
      "399/399 [==============================] - 0s 637us/step - loss: 0.2738 - accuracy: 0.8804\n",
      "Epoch 73/100\n",
      "399/399 [==============================] - 0s 627us/step - loss: 0.2747 - accuracy: 0.8810\n",
      "Epoch 74/100\n",
      "399/399 [==============================] - 0s 629us/step - loss: 0.2740 - accuracy: 0.8787\n",
      "Epoch 75/100\n",
      "399/399 [==============================] - 0s 617us/step - loss: 0.2744 - accuracy: 0.8819\n",
      "Epoch 76/100\n",
      "399/399 [==============================] - 0s 627us/step - loss: 0.2741 - accuracy: 0.8787\n",
      "Epoch 77/100\n",
      "399/399 [==============================] - 0s 666us/step - loss: 0.2733 - accuracy: 0.8819\n",
      "Epoch 78/100\n",
      "399/399 [==============================] - 0s 816us/step - loss: 0.2735 - accuracy: 0.8793\n",
      "Epoch 79/100\n"
     ]
    },
    {
     "name": "stdout",
     "output_type": "stream",
     "text": [
      "399/399 [==============================] - 0s 705us/step - loss: 0.2726 - accuracy: 0.8807\n",
      "Epoch 80/100\n",
      "399/399 [==============================] - 0s 631us/step - loss: 0.2729 - accuracy: 0.8798\n",
      "Epoch 81/100\n",
      "399/399 [==============================] - 0s 645us/step - loss: 0.2720 - accuracy: 0.8796\n",
      "Epoch 82/100\n",
      "399/399 [==============================] - 0s 830us/step - loss: 0.2722 - accuracy: 0.8809\n",
      "Epoch 83/100\n",
      "399/399 [==============================] - 0s 725us/step - loss: 0.2718 - accuracy: 0.8806\n",
      "Epoch 84/100\n",
      "399/399 [==============================] - 0s 848us/step - loss: 0.2711 - accuracy: 0.8804\n",
      "Epoch 85/100\n",
      "399/399 [==============================] - 0s 742us/step - loss: 0.2729 - accuracy: 0.8794\n",
      "Epoch 86/100\n",
      "399/399 [==============================] - 0s 749us/step - loss: 0.2719 - accuracy: 0.8795\n",
      "Epoch 87/100\n",
      "399/399 [==============================] - 0s 757us/step - loss: 0.2718 - accuracy: 0.8809\n",
      "Epoch 88/100\n",
      "399/399 [==============================] - 0s 745us/step - loss: 0.2712 - accuracy: 0.8812\n",
      "Epoch 89/100\n",
      "399/399 [==============================] - 0s 743us/step - loss: 0.2711 - accuracy: 0.8815\n",
      "Epoch 90/100\n",
      "399/399 [==============================] - 0s 725us/step - loss: 0.2705 - accuracy: 0.8819\n",
      "Epoch 91/100\n",
      "399/399 [==============================] - 0s 704us/step - loss: 0.2709 - accuracy: 0.8801\n",
      "Epoch 92/100\n",
      "399/399 [==============================] - 0s 723us/step - loss: 0.2707 - accuracy: 0.8795\n",
      "Epoch 93/100\n",
      "399/399 [==============================] - 0s 772us/step - loss: 0.2710 - accuracy: 0.8808\n",
      "Epoch 94/100\n",
      "399/399 [==============================] - 0s 790us/step - loss: 0.2712 - accuracy: 0.8811\n",
      "Epoch 95/100\n",
      "399/399 [==============================] - 0s 741us/step - loss: 0.2690 - accuracy: 0.8825\n",
      "Epoch 96/100\n",
      "399/399 [==============================] - 0s 729us/step - loss: 0.2693 - accuracy: 0.8817\n",
      "Epoch 97/100\n",
      "399/399 [==============================] - 0s 784us/step - loss: 0.2693 - accuracy: 0.8815\n",
      "Epoch 98/100\n",
      "399/399 [==============================] - 0s 776us/step - loss: 0.2692 - accuracy: 0.8816\n",
      "Epoch 99/100\n",
      "399/399 [==============================] - 0s 794us/step - loss: 0.2698 - accuracy: 0.8809\n",
      "Epoch 100/100\n",
      "399/399 [==============================] - 0s 779us/step - loss: 0.2692 - accuracy: 0.8812\n"
     ]
    }
   ],
   "source": [
    "traces = model.fit(X_train, y_train, epochs=100)"
   ]
  },
  {
   "cell_type": "markdown",
   "id": "dec30ad7",
   "metadata": {},
   "source": [
    "# Testing Data & Confusion Matrix"
   ]
  },
  {
   "cell_type": "code",
   "execution_count": 16,
   "id": "d1aa6c1b",
   "metadata": {},
   "outputs": [],
   "source": [
    "y_predicted = model.predict(X_test)\n",
    "y_predicted = (y_predicted > 0.5)\n",
    "y_predicted = [e[0] for e in y_predicted]\n",
    "predicted_y = []\n",
    "for e in y_predicted:\n",
    "    if e:\n",
    "        predicted_y.append(1)\n",
    "    else:\n",
    "        predicted_y.append(0)"
   ]
  },
  {
   "cell_type": "code",
   "execution_count": 17,
   "id": "76d0f14b",
   "metadata": {},
   "outputs": [
    {
     "name": "stdout",
     "output_type": "stream",
     "text": [
      "[[1356  178]\n",
      " [ 240 1412]]\n"
     ]
    },
    {
     "data": {
      "text/plain": [
       "0.8688010043942247"
      ]
     },
     "execution_count": 17,
     "metadata": {},
     "output_type": "execute_result"
    }
   ],
   "source": [
    "c_matrix = confusion_matrix(y_test, y_predicted)\n",
    "print(c_matrix)\n",
    "accuracy_score(y_test, y_predicted)"
   ]
  },
  {
   "cell_type": "markdown",
   "id": "762b5390",
   "metadata": {},
   "source": [
    "#### Training Accuracy is 88% and Testing accuracy is 87%. So we can assume that model trained well and not overfitted"
   ]
  },
  {
   "cell_type": "code",
   "execution_count": null,
   "id": "1bf5094b",
   "metadata": {},
   "outputs": [],
   "source": []
  }
 ],
 "metadata": {
  "kernelspec": {
   "display_name": "env_seg",
   "language": "python",
   "name": "env_seg"
  },
  "language_info": {
   "codemirror_mode": {
    "name": "ipython",
    "version": 3
   },
   "file_extension": ".py",
   "mimetype": "text/x-python",
   "name": "python",
   "nbconvert_exporter": "python",
   "pygments_lexer": "ipython3",
   "version": "3.8.10"
  }
 },
 "nbformat": 4,
 "nbformat_minor": 5
}
